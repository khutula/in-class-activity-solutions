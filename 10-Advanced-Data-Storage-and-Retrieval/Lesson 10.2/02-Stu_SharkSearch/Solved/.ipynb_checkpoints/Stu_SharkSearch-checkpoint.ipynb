{
 "cells": [
  {
   "cell_type": "code",
   "execution_count": 1,
   "metadata": {},
   "outputs": [],
   "source": [
    "from sqlalchemy.ext.declarative import declarative_base\n",
    "Base = declarative_base()\n",
    "from sqlalchemy import Column, Integer, String, Float"
   ]
  },
  {
   "cell_type": "code",
   "execution_count": 2,
   "metadata": {},
   "outputs": [],
   "source": [
    "from sqlalchemy import create_engine\n",
    "database_path = \"../Resources/sharks.sqlite\"\n",
    "engine = create_engine(f\"sqlite:///{database_path}\")\n",
    "Base.metadata.create_all(engine)"
   ]
  },
  {
   "cell_type": "code",
   "execution_count": 3,
   "metadata": {},
   "outputs": [],
   "source": [
    "from sqlalchemy.orm import Session\n",
    "session = Session(bind=engine)"
   ]
  },
  {
   "cell_type": "code",
   "execution_count": 4,
   "metadata": {
    "deletable": false,
    "nbgrader": {
     "checksum": "272368b77cc71254fcd63d37c986090e",
     "grade": false,
     "grade_id": "cell-c57d66be4b87f3dc",
     "locked": false,
     "schema_version": 1,
     "solution": true
    }
   },
   "outputs": [],
   "source": [
    "# create your shark class\n",
    "class Sharks(Base):\n",
    "    __tablename__ = \"sharks\"\n",
    "    id = Column(Integer, primary_key=True)\n",
    "    case_number = Column(String(255))\n",
    "    date = Column(String(255))\n",
    "    year = Column(Integer)\n",
    "    type = Column(String(255))\n",
    "    country = Column(String(255))\n",
    "    area = Column(String(255))\n",
    "    location = Column(String(255))\n",
    "    activity = Column(String(255))\n",
    "    name = Column(String(255))\n",
    "    sex = Column(String(255))\n",
    "    age = Column(Integer)\n",
    "    injury = Column(String(255))\n",
    "    fatal_y_n = Column(String(255))\n",
    "    time = Column(String(255))\n",
    "    species = Column(String(255))\n",
    "    investigator_or_source = Column(String(255))\n",
    "    pdf = Column(String(255))\n",
    "    original_order = Column(Integer)"
   ]
  },
  {
   "cell_type": "code",
   "execution_count": 5,
   "metadata": {
    "deletable": false,
    "nbgrader": {
     "checksum": "827e8537e30fd84c706b14b2040fccf2",
     "grade": false,
     "grade_id": "cell-48e2a351e977f8b6",
     "locked": false,
     "schema_version": 1,
     "solution": true
    },
    "scrolled": true
   },
   "outputs": [
    {
     "name": "stdout",
     "output_type": "stream",
     "text": [
      "Point Casuarina, Bunbury\n",
      "Flinders, Mornington Penisula\n",
      "Weipa\n",
      "None\n",
      "Sanibel Island, Lee County\n",
      "2-3 km north of Sunday's River mouth\n",
      "Second Beach, Port St. John's\n",
      "Blue Bay\n",
      "South Broulee\n",
      "Bateman's Bay\n",
      "Ponce Inlet, Volusia County\n",
      "Pulau Payar Island\n",
      "Alenuihaha Channel\n",
      "The Natural Jetty, Rottnest Island\n",
      "Near Albany\n",
      "Bourail\n",
      "Off Cape Point\n",
      "Taranaki\n",
      "Avalon\n",
      "Batt Reef\n",
      "Shelly Beach, near Port Macquarie\n",
      "Bondi Beach, Sydney\n",
      "Garden Point, Woolloomooloo Sydney Harbour\n",
      "Quebradillas\n",
      "Cellito Beach\n",
      "Florida Keys, Monroe County\n",
      "Sandon\n",
      "Onboard the fishing vessel Nuevo Cedes\n",
      "Praia do Olho d'Aqua\n",
      "Guantanamo Bay\n",
      "Alderman Islands\n",
      "Surf Beach, Batemans Bay\n",
      "Second Beach, Port St. John's\n",
      "Olho d'Água\n",
      "Off Tower Hill\n",
      "Karitane Beach\n",
      "Sharpes Beach, Ballina\n",
      "Shark Alley, off Gansbaai\n",
      "Windang,       Lake Illawara\n",
      "Binalong Bay\n",
      "Fingal Beach\n",
      "Hawkes Bay\n",
      "Isla Isabella\n",
      "Haumoana\n",
      "Guantanamo\n",
      "Port Kennedy Beach\n",
      "near Schouten Island\n",
      "Irino Beach\n",
      "Seal Rocks\n",
      "Long Reef, north of Sydney\n",
      "Port Kennedy Beach\n",
      "Dillon Beach, Marin County\n",
      "Maraetai\n",
      "Plettenberg Bay\n",
      "Mowarry Point\n",
      "Chidenguele\n",
      "Elphinstone Reef\n",
      "Luzon Strait\n",
      "Clifton Beach\n",
      "Santa Cruz\n",
      "North Haven\n",
      "50 miles off Kaohsiung\n",
      "off Paoay, Ilocos Norte Province\n",
      "Oceanworld, Manley\n",
      "None\n",
      "Darwin\n",
      "Lake Macquarie\n",
      "Santa Rosa Beach, Walton County\n",
      "Smokvina Bay, Vis Island\n",
      "Green Turtle Cay\n",
      "New Smyrna Beach, Volusia County\n",
      "Bethune Beach\n",
      "Near Croker Island\n",
      "Ormond-by-the-Sea, Volusia County\n",
      "Ka'a'awa, Oahu\n",
      "Surf Beach, Lompoc, Santa Barbara County\n",
      "Clarks Beach, Byron Bay\n",
      "Ponce Inlet, New Smyrna Beach, Volusia County\n",
      "Ponce Inlet, New Smyrna Beach, Volusia County\n",
      "New Smyrna Beach, Volusia County\n",
      "20 k off The Spit, off the Gold Coast\n",
      "Hutchinson Island\n",
      "Tallow Beach, Byron Bay\n",
      "McKenzie Beach Park in Pahoa, Hawai'i \n",
      "Lundy Island\n",
      "New Smyrna Beach, Volusia County\n",
      "New Smyrna Beach, Volusia County\n",
      "New Smyrna Beach, Volusia County\n",
      "Surf City, Topsail Island, Pender County\n",
      "Sanibel Island, Lee County\n",
      "North Myrtle Beach, Horry County\n",
      "8 miles off Mobile\n",
      "Buck Island\n",
      "New Smyrna Beach, Volusia County\n",
      "Ala Moana Beach Park, Oah'u\n",
      "Levys Beach\n",
      "None\n",
      "Playa Teta\n",
      "None\n",
      "Honokowai, Maui\n"
     ]
    }
   ],
   "source": [
    "# print all locations of shark attacks\n",
    "shark_attacks = session.query(Sharks)\n",
    "\n",
    "for shark_attack in shark_attacks:\n",
    "    print(shark_attack.location)"
   ]
  },
  {
   "cell_type": "code",
   "execution_count": 6,
   "metadata": {
    "deletable": false,
    "nbgrader": {
     "checksum": "5da00f78964b8a2627e7955872b79cf2",
     "grade": false,
     "grade_id": "cell-33b12ba730e08a42",
     "locked": false,
     "schema_version": 1,
     "solution": true
    }
   },
   "outputs": [
    {
     "name": "stdout",
     "output_type": "stream",
     "text": [
      "There are 12 provoked attacks.\n"
     ]
    }
   ],
   "source": [
    "# find the number of provoked attacks\n",
    "provoked_attacks = shark_attacks.filter(Sharks.type == \"Provoked\").count()\n",
    "\n",
    "print(f\"There are {provoked_attacks} provoked attacks.\")"
   ]
  },
  {
   "cell_type": "code",
   "execution_count": 7,
   "metadata": {
    "deletable": false,
    "nbgrader": {
     "checksum": "625cca75f2e3869d61a4d1bb6aaa862d",
     "grade": false,
     "grade_id": "cell-4b1293d38480400d",
     "locked": false,
     "schema_version": 1,
     "solution": true
    }
   },
   "outputs": [
    {
     "name": "stdout",
     "output_type": "stream",
     "text": [
      "There are 28 attacks in the USA.\n"
     ]
    }
   ],
   "source": [
    "# find the number of attacks in USA\n",
    "usa_attacks = shark_attacks.filter(Sharks.country == \"USA\").count()\n",
    "\n",
    "print(f\"There are {usa_attacks} attacks in the USA.\")"
   ]
  },
  {
   "cell_type": "code",
   "execution_count": 8,
   "metadata": {
    "deletable": false,
    "nbgrader": {
     "checksum": "5c44b8a34de6f5090552b1efa1c4d58e",
     "grade": false,
     "grade_id": "cell-5431c1fabaae9ed8",
     "locked": false,
     "schema_version": 1,
     "solution": true
    }
   },
   "outputs": [
    {
     "name": "stdout",
     "output_type": "stream",
     "text": [
      "There were 3 attacks in 2017.\n"
     ]
    }
   ],
   "source": [
    "# find the number of attacks in 2017\n",
    "attacks_2017 = shark_attacks.filter(Sharks.year == 2017).count()\n",
    "\n",
    "print(f\"There were {attacks_2017} attacks in 2017.\")"
   ]
  },
  {
   "cell_type": "code",
   "execution_count": 9,
   "metadata": {
    "deletable": false,
    "nbgrader": {
     "checksum": "6fb8eae592cf139c082c6f77d42e00aa",
     "grade": false,
     "grade_id": "cell-4de2402e47fe0214",
     "locked": false,
     "schema_version": 1,
     "solution": true
    }
   },
   "outputs": [
    {
     "name": "stdout",
     "output_type": "stream",
     "text": [
      "There were 34 attacks while surfing.\n"
     ]
    }
   ],
   "source": [
    "# find the number of attacks while surfing\n",
    "surfing_attacks = shark_attacks.filter(Sharks.activity == \"Surfing\").count()\n",
    "\n",
    "print(f\"There were {surfing_attacks} attacks while surfing.\")"
   ]
  },
  {
   "cell_type": "code",
   "execution_count": 10,
   "metadata": {
    "deletable": false,
    "nbgrader": {
     "checksum": "ac16e312f24b2a48fba9a384e600676f",
     "grade": false,
     "grade_id": "cell-9e2afa5b2f869a4f",
     "locked": false,
     "schema_version": 1,
     "solution": true
    }
   },
   "outputs": [
    {
     "name": "stdout",
     "output_type": "stream",
     "text": [
      "There were 12 fatal attacks.\n"
     ]
    }
   ],
   "source": [
    "# find the number of fatal attacks\n",
    "fatal_attacks = shark_attacks.filter(Sharks.fatal_y_n == \"Y\").count()\n",
    "\n",
    "print(f\"There were {fatal_attacks} fatal attacks.\")"
   ]
  },
  {
   "cell_type": "code",
   "execution_count": 12,
   "metadata": {
    "deletable": false,
    "nbgrader": {
     "checksum": "099a489efed7a5379e3b22a0997c9465",
     "grade": false,
     "grade_id": "cell-75819f28900a2e54",
     "locked": false,
     "schema_version": 1,
     "solution": true
    }
   },
   "outputs": [
    {
     "name": "stdout",
     "output_type": "stream",
     "text": [
      "There were 2 fatal attacks while surfing.\n"
     ]
    }
   ],
   "source": [
    "# find the number of fatal attacks while surfing\n",
    "surfing_fatal_attacks = shark_attacks.filter((Sharks.fatal_y_n == \"Y\") & (Sharks.activity == \"Surfing\")).count()\n",
    "\n",
    "print(f\"There were {surfing_fatal_attacks} fatal attacks while surfing.\")"
   ]
  },
  {
   "cell_type": "code",
   "execution_count": 16,
   "metadata": {
    "deletable": false,
    "nbgrader": {
     "checksum": "7e93397023f1706df0f8bec0a433137b",
     "grade": false,
     "grade_id": "cell-ef68003cff255319",
     "locked": false,
     "schema_version": 1,
     "solution": true
    }
   },
   "outputs": [
    {
     "name": "stdout",
     "output_type": "stream",
     "text": [
      "There were 1 fatal attacks in Mozambique while spearfishing.\n"
     ]
    }
   ],
   "source": [
    "# find the number of fatal attacks in Mozambique while spearfishing\n",
    "moz_fatal_attacks = shark_attacks.\\\n",
    "    filter((Sharks.fatal_y_n == \"Y\") & (Sharks.activity == \"Spearfishing\") & (Sharks.country == \"MOZAMBIQUE\")).count()\n",
    "\n",
    "print(f\"There were {moz_fatal_attacks} fatal attacks in Mozambique while spearfishing.\")"
   ]
  },
  {
   "cell_type": "code",
   "execution_count": 17,
   "metadata": {},
   "outputs": [],
   "source": [
    "session.close()"
   ]
  },
  {
   "cell_type": "code",
   "execution_count": null,
   "metadata": {},
   "outputs": [],
   "source": []
  }
 ],
 "metadata": {
  "kernelspec": {
   "display_name": "Python 3",
   "language": "python",
   "name": "python3"
  },
  "language_info": {
   "codemirror_mode": {
    "name": "ipython",
    "version": 3
   },
   "file_extension": ".py",
   "mimetype": "text/x-python",
   "name": "python",
   "nbconvert_exporter": "python",
   "pygments_lexer": "ipython3",
   "version": "3.8.5"
  },
  "varInspector": {
   "cols": {
    "lenName": 16,
    "lenType": 16,
    "lenVar": 40
   },
   "kernels_config": {
    "python": {
     "delete_cmd_postfix": "",
     "delete_cmd_prefix": "del ",
     "library": "var_list.py",
     "varRefreshCmd": "print(var_dic_list())"
    },
    "r": {
     "delete_cmd_postfix": ") ",
     "delete_cmd_prefix": "rm(",
     "library": "var_list.r",
     "varRefreshCmd": "cat(var_dic_list()) "
    }
   },
   "types_to_exclude": [
    "module",
    "function",
    "builtin_function_or_method",
    "instance",
    "_Feature"
   ],
   "window_display": false
  }
 },
 "nbformat": 4,
 "nbformat_minor": 2
}
