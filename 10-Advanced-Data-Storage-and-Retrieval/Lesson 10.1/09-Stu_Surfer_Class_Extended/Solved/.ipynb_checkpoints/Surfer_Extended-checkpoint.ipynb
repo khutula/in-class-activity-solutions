{
 "cells": [
  {
   "cell_type": "code",
   "execution_count": 4,
   "metadata": {},
   "outputs": [],
   "source": [
    "# Define the Surfer Class\n",
    "class Surfer:\n",
    "    def __init__(self, name, hometown, rank, wipeouts):\n",
    "        self.name = name\n",
    "        self.hometown = hometown\n",
    "        self.rank = rank\n",
    "        self.wipeouts = wipeouts\n",
    "    def speak(self):\n",
    "        print(\"Hang loose, bruh!\")\n",
    "    def biography(self):\n",
    "        print(f\"Surfer {self.name} is from {self.hometown}.\")\n",
    "    def cheer(self):\n",
    "        if self.wipeouts == 0:\n",
    "            print(\"I totally rock man, no wipeouts!\")\n",
    "        else:\n",
    "            print(\"Bummer bruh, keep on keeping on!\")"
   ]
  },
  {
   "cell_type": "code",
   "execution_count": 5,
   "metadata": {},
   "outputs": [
    {
     "name": "stdout",
     "output_type": "stream",
     "text": [
      "Hang loose, bruh!\n",
      "Surfer Karina is from Concord.\n",
      "Bummer bruh, keep on keeping on!\n",
      "Hang loose, bruh!\n",
      "Surfer Kendrick is from Augusta.\n",
      "I totally rock man, no wipeouts!\n"
     ]
    }
   ],
   "source": [
    "# Create Surfers\n",
    "# --------------------------------------------------------------------------------\n",
    "surfer1 = Surfer(\"Karina\", \"Concord\", 55, 7)\n",
    "surfer2 = Surfer(\"Kendrick\", \"Augusta\", 15, 0)\n",
    "\n",
    "surfer1.speak()\n",
    "surfer1.biography()\n",
    "surfer1.cheer()\n",
    "\n",
    "surfer2.speak()\n",
    "surfer2.biography()\n",
    "surfer2.cheer()"
   ]
  },
  {
   "cell_type": "code",
   "execution_count": null,
   "metadata": {},
   "outputs": [],
   "source": []
  }
 ],
 "metadata": {
  "kernelspec": {
   "display_name": "Python 3",
   "language": "python",
   "name": "python3"
  },
  "language_info": {
   "codemirror_mode": {
    "name": "ipython",
    "version": 3
   },
   "file_extension": ".py",
   "mimetype": "text/x-python",
   "name": "python",
   "nbconvert_exporter": "python",
   "pygments_lexer": "ipython3",
   "version": "3.8.5"
  },
  "varInspector": {
   "cols": {
    "lenName": 16,
    "lenType": 16,
    "lenVar": 40
   },
   "kernels_config": {
    "python": {
     "delete_cmd_postfix": "",
     "delete_cmd_prefix": "del ",
     "library": "var_list.py",
     "varRefreshCmd": "print(var_dic_list())"
    },
    "r": {
     "delete_cmd_postfix": ") ",
     "delete_cmd_prefix": "rm(",
     "library": "var_list.r",
     "varRefreshCmd": "cat(var_dic_list()) "
    }
   },
   "types_to_exclude": [
    "module",
    "function",
    "builtin_function_or_method",
    "instance",
    "_Feature"
   ],
   "window_display": false
  }
 },
 "nbformat": 4,
 "nbformat_minor": 2
}
