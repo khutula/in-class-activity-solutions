{
 "cells": [
  {
   "cell_type": "code",
   "execution_count": 1,
   "metadata": {},
   "outputs": [],
   "source": [
    "# Dependencies\n",
    "import json\n",
    "import os\n",
    "\n",
    "# Load JSON\n",
    "filepath = os.path.join(\"..\", \"Resources\", \"youtube_response.json\")\n",
    "with open(filepath) as jsonfile:\n",
    "    json_data = json.load(jsonfile)"
   ]
  },
  {
   "cell_type": "code",
   "execution_count": 11,
   "metadata": {},
   "outputs": [],
   "source": [
    "video_title = json_data[\"data\"][\"items\"][0][\"title\"]\n",
    "video_rating = json_data[\"data\"][\"items\"][0][\"rating\"]\n",
    "video_thumbnail = json_data[\"data\"][\"items\"][0][\"thumbnail\"][\"default\"]\n",
    "video_views = json_data[\"data\"][\"items\"][0][\"viewCount\"]"
   ]
  },
  {
   "cell_type": "code",
   "execution_count": 13,
   "metadata": {},
   "outputs": [
    {
     "name": "stdout",
     "output_type": "stream",
     "text": [
      "Google Developers Day US - Maps API Introduction has 220101 views and a rating of 4.63.\n",
      "Here is the thumbnail: http://i.ytimg.com/vi/hYB0mn5zh2c/default.jpg\n"
     ]
    }
   ],
   "source": [
    "print(f\"{video_title} has {video_views} views and a rating of {video_rating}.\\nHere is the thumbnail: {video_thumbnail}\")"
   ]
  },
  {
   "cell_type": "code",
   "execution_count": null,
   "metadata": {},
   "outputs": [],
   "source": []
  }
 ],
 "metadata": {
  "kernelspec": {
   "display_name": "Python 3",
   "language": "python",
   "name": "python3"
  },
  "language_info": {
   "codemirror_mode": {
    "name": "ipython",
    "version": 3
   },
   "file_extension": ".py",
   "mimetype": "text/x-python",
   "name": "python",
   "nbconvert_exporter": "python",
   "pygments_lexer": "ipython3",
   "version": "3.8.5"
  }
 },
 "nbformat": 4,
 "nbformat_minor": 4
}
