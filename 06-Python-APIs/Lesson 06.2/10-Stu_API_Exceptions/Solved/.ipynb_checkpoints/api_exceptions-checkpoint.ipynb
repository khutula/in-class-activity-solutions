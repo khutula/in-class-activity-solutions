{
 "cells": [
  {
   "cell_type": "code",
   "execution_count": 1,
   "metadata": {},
   "outputs": [],
   "source": [
    "import json\n",
    "import requests\n",
    "import pandas as pd"
   ]
  },
  {
   "cell_type": "code",
   "execution_count": 2,
   "metadata": {},
   "outputs": [],
   "source": [
    "# List of character\n",
    "search_characters = ['R2-D2', 'Darth Vader', 'Godzilla', 'Luke Skywalker', 'Frodo', \\\n",
    "              'Boba Fett', 'Iron Man', 'Jon Snow', 'Han Solo']\n",
    "\n",
    "# Set url for API\n",
    "url = 'https://swapi.dev/api/people/?search='\n",
    "\n",
    "# Set empty lists to hold character's height and mass\n",
    "height = []\n",
    "mass = []\n",
    "\n",
    "# Loop through each character and make API request\n",
    "for character in search_characters:\n",
    "    # Create search query, make request and store in json\n",
    "    star_wars_data = requests.get(url + character).json()\n",
    "    \n",
    "    # Try to grab the height and mass of characters if they are available in the Star Wars API\n",
    "    try:\n",
    "        height.append(star_wars_data[\"results\"][0][\"height\"])\n",
    "        mass.append(star_wars_data[\"results\"][0][\"mass\"])\n",
    "        \n",
    "    # Handle exceptions for a character that is not available in the Star Wars API\n",
    "    except:\n",
    "        height.append(None)\n",
    "        mass.append(None)"
   ]
  },
  {
   "cell_type": "code",
   "execution_count": 5,
   "metadata": {},
   "outputs": [
    {
     "data": {
      "text/html": [
       "<div>\n",
       "<style scoped>\n",
       "    .dataframe tbody tr th:only-of-type {\n",
       "        vertical-align: middle;\n",
       "    }\n",
       "\n",
       "    .dataframe tbody tr th {\n",
       "        vertical-align: top;\n",
       "    }\n",
       "\n",
       "    .dataframe thead th {\n",
       "        text-align: right;\n",
       "    }\n",
       "</style>\n",
       "<table border=\"1\" class=\"dataframe\">\n",
       "  <thead>\n",
       "    <tr style=\"text-align: right;\">\n",
       "      <th></th>\n",
       "      <th>Height</th>\n",
       "      <th>Mass</th>\n",
       "    </tr>\n",
       "    <tr>\n",
       "      <th>Character</th>\n",
       "      <th></th>\n",
       "      <th></th>\n",
       "    </tr>\n",
       "  </thead>\n",
       "  <tbody>\n",
       "    <tr>\n",
       "      <th>R2-D2</th>\n",
       "      <td>96</td>\n",
       "      <td>32</td>\n",
       "    </tr>\n",
       "    <tr>\n",
       "      <th>Darth Vader</th>\n",
       "      <td>202</td>\n",
       "      <td>136</td>\n",
       "    </tr>\n",
       "    <tr>\n",
       "      <th>Luke Skywalker</th>\n",
       "      <td>172</td>\n",
       "      <td>77</td>\n",
       "    </tr>\n",
       "    <tr>\n",
       "      <th>Boba Fett</th>\n",
       "      <td>183</td>\n",
       "      <td>78.2</td>\n",
       "    </tr>\n",
       "    <tr>\n",
       "      <th>Han Solo</th>\n",
       "      <td>180</td>\n",
       "      <td>80</td>\n",
       "    </tr>\n",
       "  </tbody>\n",
       "</table>\n",
       "</div>"
      ],
      "text/plain": [
       "               Height  Mass\n",
       "Character                  \n",
       "R2-D2              96    32\n",
       "Darth Vader       202   136\n",
       "Luke Skywalker    172    77\n",
       "Boba Fett         183  78.2\n",
       "Han Solo          180    80"
      ]
     },
     "execution_count": 5,
     "metadata": {},
     "output_type": "execute_result"
    }
   ],
   "source": [
    "# Create DataFrame\n",
    "star_wars_dict = {\n",
    "    \"Character\": search_characters,\n",
    "    \"Height\": height,\n",
    "    \"Mass\": mass\n",
    "}\n",
    "\n",
    "star_wars_df = pd.DataFrame(star_wars_dict).set_index(\"Character\").dropna(how=\"any\")\n",
    "star_wars_df"
   ]
  },
  {
   "cell_type": "code",
   "execution_count": null,
   "metadata": {},
   "outputs": [],
   "source": []
  }
 ],
 "metadata": {
  "kernelspec": {
   "display_name": "Python 3",
   "language": "python",
   "name": "python3"
  },
  "language_info": {
   "codemirror_mode": {
    "name": "ipython",
    "version": 3
   },
   "file_extension": ".py",
   "mimetype": "text/x-python",
   "name": "python",
   "nbconvert_exporter": "python",
   "pygments_lexer": "ipython3",
   "version": "3.8.5"
  },
  "latex_envs": {
   "LaTeX_envs_menu_present": true,
   "autoclose": false,
   "autocomplete": true,
   "bibliofile": "biblio.bib",
   "cite_by": "apalike",
   "current_citInitial": 1,
   "eqLabelWithNumbers": true,
   "eqNumInitial": 1,
   "hotkeys": {
    "equation": "Ctrl-E",
    "itemize": "Ctrl-I"
   },
   "labels_anchors": false,
   "latex_user_defs": false,
   "report_style_numbering": false,
   "user_envs_cfg": false
  }
 },
 "nbformat": 4,
 "nbformat_minor": 4
}
