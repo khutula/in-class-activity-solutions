{
 "cells": [
  {
   "cell_type": "code",
   "execution_count": 26,
   "metadata": {},
   "outputs": [],
   "source": [
    "import requests\n",
    "import json\n",
    "import pprint"
   ]
  },
  {
   "cell_type": "code",
   "execution_count": 27,
   "metadata": {},
   "outputs": [],
   "source": [
    "api_key = \"98a5a155\"\n",
    "url = f\"http://www.omdbapi.com/?apikey={api_key}&t=\""
   ]
  },
  {
   "cell_type": "code",
   "execution_count": 28,
   "metadata": {},
   "outputs": [
    {
     "name": "stdout",
     "output_type": "stream",
     "text": [
      "{   'Actors': \"Ashton Kutcher, Katherine Heigl, Tom Selleck, Catherine O'Hara\",\n",
      "    'Awards': '2 wins & 3 nominations.',\n",
      "    'BoxOffice': '$47,059,963',\n",
      "    'Country': 'USA',\n",
      "    'DVD': '19 Dec 2015',\n",
      "    'Director': 'Robert Luketic',\n",
      "    'Genre': 'Action, Comedy, Romance, Thriller',\n",
      "    'Language': 'English',\n",
      "    'Metascore': '21',\n",
      "    'Plot': 'A vacationing woman meets her ideal man, leading to a swift '\n",
      "            'marriage. Back at home, however, their idyllic life is upset when '\n",
      "            'they discover their neighbors could be assassins who have been '\n",
      "            'contracted to kill the couple.',\n",
      "    'Poster': 'https://m.media-amazon.com/images/M/MV5BMTU0NDIwOTcwOV5BMl5BanBnXkFtZTcwNjU3NTQ0Mw@@._V1_SX300.jpg',\n",
      "    'Production': 'Lionsgate Films, Katalyst Films',\n",
      "    'Rated': 'PG-13',\n",
      "    'Ratings': [   {'Source': 'Internet Movie Database', 'Value': '5.5/10'},\n",
      "                   {'Source': 'Rotten Tomatoes', 'Value': '10%'},\n",
      "                   {'Source': 'Metacritic', 'Value': '21/100'}],\n",
      "    'Released': '04 Jun 2010',\n",
      "    'Response': 'True',\n",
      "    'Runtime': '100 min',\n",
      "    'Title': 'Killers',\n",
      "    'Type': 'movie',\n",
      "    'Website': 'N/A',\n",
      "    'Writer': 'Bob DeRosa (screenplay), Ted Griffin (screenplay), Bob DeRosa '\n",
      "              '(story)',\n",
      "    'Year': '2010',\n",
      "    'imdbID': 'tt1103153',\n",
      "    'imdbRating': '5.5',\n",
      "    'imdbVotes': '88,650'}\n"
     ]
    }
   ],
   "source": [
    "data = requests.get(url+\"killers\").json()\n",
    "\n",
    "pp = pprint.PrettyPrinter(indent=4)\n",
    "pp.pprint(data)"
   ]
  },
  {
   "cell_type": "code",
   "execution_count": 30,
   "metadata": {},
   "outputs": [
    {
     "name": "stdout",
     "output_type": "stream",
     "text": [
      "Killers was released in 2010 and had actors Ashton Kutcher, Katherine Heigl, Tom Selleck, Catherine O'Hara.\n"
     ]
    }
   ],
   "source": [
    "title=data[\"Title\"]\n",
    "year=data[\"Year\"]\n",
    "actors=data[\"Actors\"]\n",
    "\n",
    "print(f\"{title} was released in {year} and had actors {actors}.\")"
   ]
  },
  {
   "cell_type": "code",
   "execution_count": null,
   "metadata": {},
   "outputs": [],
   "source": []
  }
 ],
 "metadata": {
  "kernelspec": {
   "display_name": "Python 3",
   "language": "python",
   "name": "python3"
  },
  "language_info": {
   "codemirror_mode": {
    "name": "ipython",
    "version": 3
   },
   "file_extension": ".py",
   "mimetype": "text/x-python",
   "name": "python",
   "nbconvert_exporter": "python",
   "pygments_lexer": "ipython3",
   "version": "3.8.5"
  }
 },
 "nbformat": 4,
 "nbformat_minor": 4
}
