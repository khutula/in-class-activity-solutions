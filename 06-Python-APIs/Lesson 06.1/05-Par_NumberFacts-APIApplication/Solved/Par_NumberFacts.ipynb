{
 "cells": [
  {
   "cell_type": "code",
   "execution_count": 1,
   "metadata": {},
   "outputs": [],
   "source": [
    "# Dependencies\n",
    "import requests\n",
    "import json"
   ]
  },
  {
   "cell_type": "code",
   "execution_count": 2,
   "metadata": {},
   "outputs": [],
   "source": [
    "# Base URL for GET requests to retrieve number/date facts\n",
    "base_url = \"http://numbersapi.com/\""
   ]
  },
  {
   "cell_type": "code",
   "execution_count": 17,
   "metadata": {},
   "outputs": [
    {
     "name": "stdin",
     "output_type": "stream",
     "text": [
      "What type of data type would you like to search for? trivia, math, date, or year? math\n",
      "What number would you like to search?  189\n"
     ]
    }
   ],
   "source": [
    "# Ask the user what kind of data they would like to search for\n",
    "data_type = input(\"What type of data type would you like to search for? trivia, math, date, or year?\")\n",
    "user_num = input(\"What number would you like to search? \")"
   ]
  },
  {
   "cell_type": "code",
   "execution_count": 21,
   "metadata": {},
   "outputs": [
    {
     "name": "stdout",
     "output_type": "stream",
     "text": [
      "189 is a centered cube number.\n",
      "{\n",
      "    \"found\": true,\n",
      "    \"number\": 189,\n",
      "    \"text\": \"189 is a centered cube number.\",\n",
      "    \"type\": \"math\"\n",
      "}\n"
     ]
    }
   ],
   "source": [
    "# Create code to return a number fact\n",
    "if data_type != \"math\" and data_type != \"date\" and data_type != \"year\":\n",
    "    data_type = \"trivia\"\n",
    "\n",
    "url = base_url + user_num + \"/\" + data_type + \"?json\"\n",
    "data = requests.get(url).json()\n",
    "pretty_print = (json.dumps(data, indent=4, sort_keys=True))\n",
    "print(data[\"text\"])\n",
    "print(pretty_print)"
   ]
  },
  {
   "cell_type": "code",
   "execution_count": null,
   "metadata": {},
   "outputs": [],
   "source": []
  }
 ],
 "metadata": {
  "kernelspec": {
   "display_name": "Python 3",
   "language": "python",
   "name": "python3"
  },
  "language_info": {
   "codemirror_mode": {
    "name": "ipython",
    "version": 3
   },
   "file_extension": ".py",
   "mimetype": "text/x-python",
   "name": "python",
   "nbconvert_exporter": "python",
   "pygments_lexer": "ipython3",
   "version": "3.8.5"
  },
  "varInspector": {
   "cols": {
    "lenName": 16,
    "lenType": 16,
    "lenVar": 40
   },
   "kernels_config": {
    "python": {
     "delete_cmd_postfix": "",
     "delete_cmd_prefix": "del ",
     "library": "var_list.py",
     "varRefreshCmd": "print(var_dic_list())"
    },
    "r": {
     "delete_cmd_postfix": ") ",
     "delete_cmd_prefix": "rm(",
     "library": "var_list.r",
     "varRefreshCmd": "cat(var_dic_list()) "
    }
   },
   "types_to_exclude": [
    "module",
    "function",
    "builtin_function_or_method",
    "instance",
    "_Feature"
   ],
   "window_display": false
  }
 },
 "nbformat": 4,
 "nbformat_minor": 4
}
