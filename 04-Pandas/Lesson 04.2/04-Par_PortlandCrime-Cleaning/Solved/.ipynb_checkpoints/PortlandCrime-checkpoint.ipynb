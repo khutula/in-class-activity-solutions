{
 "cells": [
  {
   "cell_type": "code",
   "execution_count": 26,
   "metadata": {},
   "outputs": [],
   "source": [
    "# Import Dependencies\n",
    "import pandas as pd"
   ]
  },
  {
   "cell_type": "code",
   "execution_count": 27,
   "metadata": {},
   "outputs": [],
   "source": [
    "# Reference the file where the CSV is located\n",
    "csv_file = \"Resources/crime_incident_data2017.csv\"\n",
    "# Import the data into a Pandas DataFrame\n",
    "crime_df = pd.read_csv(csv_file)"
   ]
  },
  {
   "cell_type": "code",
   "execution_count": 28,
   "metadata": {},
   "outputs": [
    {
     "data": {
      "text/plain": [
       "Address              37365\n",
       "Case Number          41032\n",
       "Crime Against        41032\n",
       "Neighborhood         39712\n",
       "Number of Records    41032\n",
       "Occur Date           41032\n",
       "Occur Month Year     41032\n",
       "Occur Time           41032\n",
       "Offense Category     41032\n",
       "Offense Count        41032\n",
       "Offense Type         41032\n",
       "Open Data Lat        36712\n",
       "Open Data Lon        36712\n",
       "Open Data X          36712\n",
       "Open Data Y          36712\n",
       "Report Date          41032\n",
       "Report Month Year    41032\n",
       "dtype: int64"
      ]
     },
     "execution_count": 28,
     "metadata": {},
     "output_type": "execute_result"
    }
   ],
   "source": [
    "# look for missing values\n",
    "crime_df.count()"
   ]
  },
  {
   "cell_type": "code",
   "execution_count": 29,
   "metadata": {},
   "outputs": [],
   "source": [
    "# drop null rows\n",
    "clean_crime_df = crime_df.dropna(how = \"any\")"
   ]
  },
  {
   "cell_type": "code",
   "execution_count": 30,
   "metadata": {},
   "outputs": [
    {
     "data": {
      "text/plain": [
       "Address              36146\n",
       "Case Number          36146\n",
       "Crime Against        36146\n",
       "Neighborhood         36146\n",
       "Number of Records    36146\n",
       "Occur Date           36146\n",
       "Occur Month Year     36146\n",
       "Occur Time           36146\n",
       "Offense Category     36146\n",
       "Offense Count        36146\n",
       "Offense Type         36146\n",
       "Open Data Lat        36146\n",
       "Open Data Lon        36146\n",
       "Open Data X          36146\n",
       "Open Data Y          36146\n",
       "Report Date          36146\n",
       "Report Month Year    36146\n",
       "dtype: int64"
      ]
     },
     "execution_count": 30,
     "metadata": {},
     "output_type": "execute_result"
    }
   ],
   "source": [
    "# verify counts\n",
    "clean_crime_df.count()"
   ]
  },
  {
   "cell_type": "code",
   "execution_count": 31,
   "metadata": {
    "scrolled": true
   },
   "outputs": [
    {
     "data": {
      "text/plain": [
       "Theft From Motor Vehicle                       6947\n",
       "Motor Vehicle Theft                            4689\n",
       "All Other Larceny                              4558\n",
       "Vandalism                                      3863\n",
       "Burglary                                       2824\n",
       "Shoplifting                                    2259\n",
       "Identity Theft                                 1794\n",
       "Simple Assault                                 1216\n",
       "Drug/Narcotic Violations                       1095\n",
       "Theft of Motor Vehicle Parts or Accessories    1073\n",
       "Intimidation                                    900\n",
       "Theft From Building                             895\n",
       "False Pretenses/Swindle/Confidence Game         870\n",
       "Aggravated Assault                              839\n",
       "Robbery                                         608\n",
       "Counterfeiting/Forgery                          448\n",
       "Weapons Law Violations                          266\n",
       "Credit Card/ATM Fraud                           226\n",
       "Arson                                           200\n",
       "Prostitution                                    145\n",
       "Pocket-Picking                                   94\n",
       "Purse-Snatching                                  89\n",
       "Embezzlement                                     73\n",
       "Stolen Property Offenses                         57\n",
       "Kidnapping/Abduction                             22\n",
       "Theft From Coin-Operated Machine or Device       20\n",
       "Hacking/Computer Invasion                        19\n",
       "Animal Cruelty                                   17\n",
       "Pornography/Obscene Material                     10\n",
       "Extortion/Blackmail                               8\n",
       "Assisting or Promoting Prostitution               7\n",
       "Drug Equipment Violations                         6\n",
       "Impersonation                                     4\n",
       "Wire Fraud                                        3\n",
       "Commercial Sex Acts                               1\n",
       "Welfare Fraud                                     1\n",
       "Name: Offense Type, dtype: int64"
      ]
     },
     "execution_count": 31,
     "metadata": {},
     "output_type": "execute_result"
    }
   ],
   "source": [
    "# Check to see if there are any values with mispelled or similar values in \"Offense Type\"\n",
    "clean_crime_df[\"Offense Type\"].value_counts()"
   ]
  },
  {
   "cell_type": "code",
   "execution_count": 35,
   "metadata": {},
   "outputs": [],
   "source": [
    "# Combine similar offenses\n",
    "clean_crime_df = clean_crime_df.replace({\"Pocket-Picking\": \"Robbery\",\"Purse-Snatching\": \"Robbery\"})"
   ]
  },
  {
   "cell_type": "code",
   "execution_count": 36,
   "metadata": {},
   "outputs": [
    {
     "data": {
      "text/plain": [
       "Theft From Motor Vehicle                       6947\n",
       "Motor Vehicle Theft                            4689\n",
       "All Other Larceny                              4558\n",
       "Vandalism                                      3863\n",
       "Burglary                                       2824\n",
       "Shoplifting                                    2259\n",
       "Identity Theft                                 1794\n",
       "Simple Assault                                 1216\n",
       "Drug/Narcotic Violations                       1095\n",
       "Theft of Motor Vehicle Parts or Accessories    1073\n",
       "Intimidation                                    900\n",
       "Theft From Building                             895\n",
       "False Pretenses/Swindle/Confidence Game         870\n",
       "Aggravated Assault                              839\n",
       "Robbery                                         791\n",
       "Counterfeiting/Forgery                          448\n",
       "Weapons Law Violations                          266\n",
       "Credit Card/ATM Fraud                           226\n",
       "Arson                                           200\n",
       "Prostitution                                    145\n",
       "Embezzlement                                     73\n",
       "Stolen Property Offenses                         57\n",
       "Kidnapping/Abduction                             22\n",
       "Theft From Coin-Operated Machine or Device       20\n",
       "Hacking/Computer Invasion                        19\n",
       "Animal Cruelty                                   17\n",
       "Pornography/Obscene Material                     10\n",
       "Extortion/Blackmail                               8\n",
       "Assisting or Promoting Prostitution               7\n",
       "Drug Equipment Violations                         6\n",
       "Impersonation                                     4\n",
       "Wire Fraud                                        3\n",
       "Welfare Fraud                                     1\n",
       "Commercial Sex Acts                               1\n",
       "Name: Offense Type, dtype: int64"
      ]
     },
     "execution_count": 36,
     "metadata": {},
     "output_type": "execute_result"
    }
   ],
   "source": [
    "# Check to see if you comnbined similar offenses correctly in \"Offense Type\".\n",
    "clean_crime_df[\"Offense Type\"].value_counts()"
   ]
  },
  {
   "cell_type": "code",
   "execution_count": 38,
   "metadata": {},
   "outputs": [
    {
     "data": {
      "text/html": [
       "<div>\n",
       "<style scoped>\n",
       "    .dataframe tbody tr th:only-of-type {\n",
       "        vertical-align: middle;\n",
       "    }\n",
       "\n",
       "    .dataframe tbody tr th {\n",
       "        vertical-align: top;\n",
       "    }\n",
       "\n",
       "    .dataframe thead th {\n",
       "        text-align: right;\n",
       "    }\n",
       "</style>\n",
       "<table border=\"1\" class=\"dataframe\">\n",
       "  <thead>\n",
       "    <tr style=\"text-align: right;\">\n",
       "      <th></th>\n",
       "      <th>Address</th>\n",
       "      <th>Case Number</th>\n",
       "      <th>Crime Against</th>\n",
       "      <th>Neighborhood</th>\n",
       "      <th>Number of Records</th>\n",
       "      <th>Occur Date</th>\n",
       "      <th>Occur Month Year</th>\n",
       "      <th>Occur Time</th>\n",
       "      <th>Offense Category</th>\n",
       "      <th>Offense Count</th>\n",
       "      <th>Offense Type</th>\n",
       "      <th>Open Data Lat</th>\n",
       "      <th>Open Data Lon</th>\n",
       "      <th>Open Data X</th>\n",
       "      <th>Open Data Y</th>\n",
       "      <th>Report Date</th>\n",
       "      <th>Report Month Year</th>\n",
       "    </tr>\n",
       "  </thead>\n",
       "  <tbody>\n",
       "    <tr>\n",
       "      <th>32</th>\n",
       "      <td>500 BLOCK OF SW OAK ST</td>\n",
       "      <td>17-900051</td>\n",
       "      <td>Property</td>\n",
       "      <td>Downtown</td>\n",
       "      <td>1</td>\n",
       "      <td>1/31/16</td>\n",
       "      <td>1/1/16</td>\n",
       "      <td>2300</td>\n",
       "      <td>Larceny Offenses</td>\n",
       "      <td>1</td>\n",
       "      <td>Theft From Motor Vehicle</td>\n",
       "      <td>45.5217</td>\n",
       "      <td>-122.677</td>\n",
       "      <td>7644291.0</td>\n",
       "      <td>683795.0</td>\n",
       "      <td>1/2/17</td>\n",
       "      <td>1/1/17</td>\n",
       "    </tr>\n",
       "    <tr>\n",
       "      <th>33</th>\n",
       "      <td>1300 BLOCK OF SW WASHINGTON ST</td>\n",
       "      <td>17-4490</td>\n",
       "      <td>Property</td>\n",
       "      <td>Downtown</td>\n",
       "      <td>1</td>\n",
       "      <td>1/3/16</td>\n",
       "      <td>1/1/16</td>\n",
       "      <td>1900</td>\n",
       "      <td>Motor Vehicle Theft</td>\n",
       "      <td>1</td>\n",
       "      <td>Motor Vehicle Theft</td>\n",
       "      <td>45.5223</td>\n",
       "      <td>-122.685</td>\n",
       "      <td>7642167.0</td>\n",
       "      <td>684106.0</td>\n",
       "      <td>1/5/17</td>\n",
       "      <td>1/1/17</td>\n",
       "    </tr>\n",
       "    <tr>\n",
       "      <th>63</th>\n",
       "      <td>1100 BLOCK OF SW 2ND AVE</td>\n",
       "      <td>17-27849</td>\n",
       "      <td>Property</td>\n",
       "      <td>Downtown</td>\n",
       "      <td>1</td>\n",
       "      <td>6/1/16</td>\n",
       "      <td>6/1/16</td>\n",
       "      <td>1</td>\n",
       "      <td>Fraud Offenses</td>\n",
       "      <td>1</td>\n",
       "      <td>Identity Theft</td>\n",
       "      <td>45.5150</td>\n",
       "      <td>-122.676</td>\n",
       "      <td>7644326.0</td>\n",
       "      <td>681371.0</td>\n",
       "      <td>1/28/17</td>\n",
       "      <td>1/1/17</td>\n",
       "    </tr>\n",
       "    <tr>\n",
       "      <th>86</th>\n",
       "      <td>1000 BLOCK OF SW JEFFERSON ST</td>\n",
       "      <td>17-900855</td>\n",
       "      <td>Property</td>\n",
       "      <td>Downtown</td>\n",
       "      <td>1</td>\n",
       "      <td>9/28/16</td>\n",
       "      <td>9/1/16</td>\n",
       "      <td>2000</td>\n",
       "      <td>Larceny Offenses</td>\n",
       "      <td>1</td>\n",
       "      <td>All Other Larceny</td>\n",
       "      <td>45.5161</td>\n",
       "      <td>-122.685</td>\n",
       "      <td>7642141.0</td>\n",
       "      <td>681831.0</td>\n",
       "      <td>1/22/17</td>\n",
       "      <td>1/1/17</td>\n",
       "    </tr>\n",
       "    <tr>\n",
       "      <th>95</th>\n",
       "      <td>1100 BLOCK OF SW 2ND AVE</td>\n",
       "      <td>17-5712</td>\n",
       "      <td>Property</td>\n",
       "      <td>Downtown</td>\n",
       "      <td>1</td>\n",
       "      <td>10/20/16</td>\n",
       "      <td>10/1/16</td>\n",
       "      <td>1200</td>\n",
       "      <td>Robbery</td>\n",
       "      <td>1</td>\n",
       "      <td>Robbery</td>\n",
       "      <td>45.5150</td>\n",
       "      <td>-122.676</td>\n",
       "      <td>7644326.0</td>\n",
       "      <td>681371.0</td>\n",
       "      <td>1/6/17</td>\n",
       "      <td>1/1/17</td>\n",
       "    </tr>\n",
       "  </tbody>\n",
       "</table>\n",
       "</div>"
      ],
      "text/plain": [
       "                           Address Case Number Crime Against Neighborhood  \\\n",
       "32          500 BLOCK OF SW OAK ST   17-900051      Property     Downtown   \n",
       "33  1300 BLOCK OF SW WASHINGTON ST     17-4490      Property     Downtown   \n",
       "63        1100 BLOCK OF SW 2ND AVE    17-27849      Property     Downtown   \n",
       "86   1000 BLOCK OF SW JEFFERSON ST   17-900855      Property     Downtown   \n",
       "95        1100 BLOCK OF SW 2ND AVE     17-5712      Property     Downtown   \n",
       "\n",
       "    Number of Records Occur Date Occur Month Year  Occur Time  \\\n",
       "32                  1    1/31/16           1/1/16        2300   \n",
       "33                  1     1/3/16           1/1/16        1900   \n",
       "63                  1     6/1/16           6/1/16           1   \n",
       "86                  1    9/28/16           9/1/16        2000   \n",
       "95                  1   10/20/16          10/1/16        1200   \n",
       "\n",
       "       Offense Category  Offense Count              Offense Type  \\\n",
       "32     Larceny Offenses              1  Theft From Motor Vehicle   \n",
       "33  Motor Vehicle Theft              1       Motor Vehicle Theft   \n",
       "63       Fraud Offenses              1            Identity Theft   \n",
       "86     Larceny Offenses              1         All Other Larceny   \n",
       "95              Robbery              1                   Robbery   \n",
       "\n",
       "    Open Data Lat  Open Data Lon  Open Data X  Open Data Y Report Date  \\\n",
       "32        45.5217       -122.677    7644291.0     683795.0      1/2/17   \n",
       "33        45.5223       -122.685    7642167.0     684106.0      1/5/17   \n",
       "63        45.5150       -122.676    7644326.0     681371.0     1/28/17   \n",
       "86        45.5161       -122.685    7642141.0     681831.0     1/22/17   \n",
       "95        45.5150       -122.676    7644326.0     681371.0      1/6/17   \n",
       "\n",
       "   Report Month Year  \n",
       "32            1/1/17  \n",
       "33            1/1/17  \n",
       "63            1/1/17  \n",
       "86            1/1/17  \n",
       "95            1/1/17  "
      ]
     },
     "execution_count": 38,
     "metadata": {},
     "output_type": "execute_result"
    }
   ],
   "source": [
    "# Create a new DataFrame that looks into a specific neighborhood\n",
    "neighborhood_df = clean_crime_df.loc[(clean_crime_df[\"Neighborhood\"]) == \"Downtown\",:]\n",
    "neighborhood_df.head()"
   ]
  },
  {
   "cell_type": "code",
   "execution_count": null,
   "metadata": {},
   "outputs": [],
   "source": []
  }
 ],
 "metadata": {
  "kernelspec": {
   "display_name": "Python 3",
   "language": "python",
   "name": "python3"
  },
  "language_info": {
   "codemirror_mode": {
    "name": "ipython",
    "version": 3
   },
   "file_extension": ".py",
   "mimetype": "text/x-python",
   "name": "python",
   "nbconvert_exporter": "python",
   "pygments_lexer": "ipython3",
   "version": "3.6.7"
  }
 },
 "nbformat": 4,
 "nbformat_minor": 4
}
