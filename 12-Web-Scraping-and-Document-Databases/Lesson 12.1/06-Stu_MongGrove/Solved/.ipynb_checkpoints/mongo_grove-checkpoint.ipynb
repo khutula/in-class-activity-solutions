{
 "cells": [
  {
   "cell_type": "code",
   "execution_count": 3,
   "metadata": {},
   "outputs": [],
   "source": [
    "import pymongo\n",
    "import datetime as dt"
   ]
  },
  {
   "cell_type": "code",
   "execution_count": 6,
   "metadata": {},
   "outputs": [],
   "source": [
    "conn = \"mongodb://localhost:27017\"\n",
    "\n",
    "Client = pymongo.MongoClient(conn)"
   ]
  },
  {
   "cell_type": "code",
   "execution_count": 7,
   "metadata": {},
   "outputs": [],
   "source": [
    "db = Client.fruits_db\n",
    "\n",
    "fruits = db.fruits.find()"
   ]
  },
  {
   "cell_type": "code",
   "execution_count": 21,
   "metadata": {},
   "outputs": [
    {
     "name": "stdout",
     "output_type": "stream",
     "text": [
      "Enter information below on the fruit shipment.\n",
      "What is the vendor name? Fruity Pebbles Inc\n",
      "What is the fruit type? banana\n",
      "How many? 374984\n",
      "What is the ripeness? 1=unripe, 2=ripe, 3=over-ripe 2\n",
      "Would you like to continue? t/f f\n"
     ]
    }
   ],
   "source": [
    "cont = True\n",
    "\n",
    "print(\"Enter information below on the fruit shipment.\")\n",
    "while cont:\n",
    "    vendor_name = input(\"What is the vendor name? \")\n",
    "    fruit_type = input(\"What is the fruit type? \")\n",
    "    quantity = int(input(\"How many? \"))\n",
    "    ripeness = int(input(\"What is the ripeness? 1=unripe, 2=ripe, 3=over-ripe \"))\n",
    "    \n",
    "    db.fruits.insert_one({\"VendorName\": vendor_name,\n",
    "                          \"FruitType\": fruit_type,\n",
    "                          \"Quantity\": quantity,\n",
    "                          \"Ripeness\": ripeness,\n",
    "                          \"Timestamp\": dt.datetime.now().strftime(\"%m/%d/%y %H:%M:%S\")}\n",
    "    )\n",
    "    \n",
    "    \n",
    "    cont = input(\"Would you like to continue? t/f \")\n",
    "    \n",
    "    if cont == \"f\":\n",
    "        cont=False\n",
    "    else:\n",
    "        cont=True"
   ]
  },
  {
   "cell_type": "code",
   "execution_count": 22,
   "metadata": {},
   "outputs": [],
   "source": [
    "fruits = db.fruits.find()"
   ]
  },
  {
   "cell_type": "code",
   "execution_count": 24,
   "metadata": {},
   "outputs": [
    {
     "name": "stdout",
     "output_type": "stream",
     "text": [
      "{'_id': ObjectId('6128eee42aa43ff840c9fd60'), 'VendorName': 'Fruity Pebbles Inc', 'FruitType': 'banana', 'Quantity': 374984, 'Ripeness': 2, 'Timestamp': '08/27/21 09:55:48'}\n"
     ]
    }
   ],
   "source": [
    "for fruit in fruits:\n",
    "    print(fruit)"
   ]
  },
  {
   "cell_type": "code",
   "execution_count": null,
   "metadata": {},
   "outputs": [],
   "source": []
  }
 ],
 "metadata": {
  "kernelspec": {
   "display_name": "Python 3",
   "language": "python",
   "name": "python3"
  },
  "language_info": {
   "codemirror_mode": {
    "name": "ipython",
    "version": 3
   },
   "file_extension": ".py",
   "mimetype": "text/x-python",
   "name": "python",
   "nbconvert_exporter": "python",
   "pygments_lexer": "ipython3",
   "version": "3.8.5"
  }
 },
 "nbformat": 4,
 "nbformat_minor": 2
}
