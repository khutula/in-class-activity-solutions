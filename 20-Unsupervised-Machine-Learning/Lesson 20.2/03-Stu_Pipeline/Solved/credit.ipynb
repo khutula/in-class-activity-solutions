{
 "cells": [
  {
   "cell_type": "code",
   "execution_count": 1,
   "metadata": {},
   "outputs": [],
   "source": [
    "from sklearn.decomposition import PCA\n",
    "from sklearn.pipeline import Pipeline\n",
    "from sklearn.preprocessing import StandardScaler\n",
    "from sklearn.model_selection import GridSearchCV\n",
    "from sklearn.model_selection import train_test_split\n",
    "from sklearn.linear_model import LogisticRegression\n",
    "import pandas as pd\n",
    "from pathlib import Path"
   ]
  },
  {
   "cell_type": "markdown",
   "metadata": {},
   "source": [
    "Info on dataset: [South German Credit Dataset](https://archive.ics.uci.edu/ml/datasets/South+German+Credit+%28UPDATE%29)"
   ]
  },
  {
   "cell_type": "code",
   "execution_count": 2,
   "metadata": {},
   "outputs": [],
   "source": [
    "file = Path('../Resources/german_credit.csv')"
   ]
  },
  {
   "cell_type": "code",
   "execution_count": 3,
   "metadata": {},
   "outputs": [
    {
     "data": {
      "text/html": [
       "<div>\n",
       "<style scoped>\n",
       "    .dataframe tbody tr th:only-of-type {\n",
       "        vertical-align: middle;\n",
       "    }\n",
       "\n",
       "    .dataframe tbody tr th {\n",
       "        vertical-align: top;\n",
       "    }\n",
       "\n",
       "    .dataframe thead th {\n",
       "        text-align: right;\n",
       "    }\n",
       "</style>\n",
       "<table border=\"1\" class=\"dataframe\">\n",
       "  <thead>\n",
       "    <tr style=\"text-align: right;\">\n",
       "      <th></th>\n",
       "      <th>laufkont</th>\n",
       "      <th>laufzeit</th>\n",
       "      <th>moral</th>\n",
       "      <th>verw</th>\n",
       "      <th>hoehe</th>\n",
       "      <th>sparkont</th>\n",
       "      <th>beszeit</th>\n",
       "      <th>rate</th>\n",
       "      <th>famges</th>\n",
       "      <th>buerge</th>\n",
       "      <th>...</th>\n",
       "      <th>verm</th>\n",
       "      <th>alter</th>\n",
       "      <th>weitkred</th>\n",
       "      <th>wohn</th>\n",
       "      <th>bishkred</th>\n",
       "      <th>beruf</th>\n",
       "      <th>pers</th>\n",
       "      <th>telef</th>\n",
       "      <th>gastarb</th>\n",
       "      <th>kredit</th>\n",
       "    </tr>\n",
       "  </thead>\n",
       "  <tbody>\n",
       "    <tr>\n",
       "      <th>0</th>\n",
       "      <td>1</td>\n",
       "      <td>18</td>\n",
       "      <td>4</td>\n",
       "      <td>2</td>\n",
       "      <td>1049</td>\n",
       "      <td>1</td>\n",
       "      <td>2</td>\n",
       "      <td>4</td>\n",
       "      <td>2</td>\n",
       "      <td>1</td>\n",
       "      <td>...</td>\n",
       "      <td>2</td>\n",
       "      <td>21</td>\n",
       "      <td>3</td>\n",
       "      <td>1</td>\n",
       "      <td>1</td>\n",
       "      <td>3</td>\n",
       "      <td>2</td>\n",
       "      <td>1</td>\n",
       "      <td>2</td>\n",
       "      <td>1.0</td>\n",
       "    </tr>\n",
       "    <tr>\n",
       "      <th>1</th>\n",
       "      <td>1</td>\n",
       "      <td>9</td>\n",
       "      <td>4</td>\n",
       "      <td>0</td>\n",
       "      <td>2799</td>\n",
       "      <td>1</td>\n",
       "      <td>3</td>\n",
       "      <td>2</td>\n",
       "      <td>3</td>\n",
       "      <td>1</td>\n",
       "      <td>...</td>\n",
       "      <td>1</td>\n",
       "      <td>36</td>\n",
       "      <td>3</td>\n",
       "      <td>1</td>\n",
       "      <td>2</td>\n",
       "      <td>3</td>\n",
       "      <td>1</td>\n",
       "      <td>1</td>\n",
       "      <td>2</td>\n",
       "      <td>1.0</td>\n",
       "    </tr>\n",
       "    <tr>\n",
       "      <th>2</th>\n",
       "      <td>2</td>\n",
       "      <td>12</td>\n",
       "      <td>2</td>\n",
       "      <td>9</td>\n",
       "      <td>841</td>\n",
       "      <td>2</td>\n",
       "      <td>4</td>\n",
       "      <td>2</td>\n",
       "      <td>2</td>\n",
       "      <td>1</td>\n",
       "      <td>...</td>\n",
       "      <td>1</td>\n",
       "      <td>23</td>\n",
       "      <td>3</td>\n",
       "      <td>1</td>\n",
       "      <td>1</td>\n",
       "      <td>2</td>\n",
       "      <td>2</td>\n",
       "      <td>1</td>\n",
       "      <td>2</td>\n",
       "      <td>1.0</td>\n",
       "    </tr>\n",
       "    <tr>\n",
       "      <th>3</th>\n",
       "      <td>1</td>\n",
       "      <td>12</td>\n",
       "      <td>4</td>\n",
       "      <td>0</td>\n",
       "      <td>2122</td>\n",
       "      <td>1</td>\n",
       "      <td>3</td>\n",
       "      <td>3</td>\n",
       "      <td>3</td>\n",
       "      <td>1</td>\n",
       "      <td>...</td>\n",
       "      <td>1</td>\n",
       "      <td>39</td>\n",
       "      <td>3</td>\n",
       "      <td>1</td>\n",
       "      <td>2</td>\n",
       "      <td>2</td>\n",
       "      <td>1</td>\n",
       "      <td>1</td>\n",
       "      <td>1</td>\n",
       "      <td>1.0</td>\n",
       "    </tr>\n",
       "    <tr>\n",
       "      <th>4</th>\n",
       "      <td>1</td>\n",
       "      <td>10</td>\n",
       "      <td>4</td>\n",
       "      <td>0</td>\n",
       "      <td>2241</td>\n",
       "      <td>1</td>\n",
       "      <td>2</td>\n",
       "      <td>1</td>\n",
       "      <td>3</td>\n",
       "      <td>1</td>\n",
       "      <td>...</td>\n",
       "      <td>1</td>\n",
       "      <td>48</td>\n",
       "      <td>3</td>\n",
       "      <td>1</td>\n",
       "      <td>2</td>\n",
       "      <td>2</td>\n",
       "      <td>1</td>\n",
       "      <td>1</td>\n",
       "      <td>1</td>\n",
       "      <td>1.0</td>\n",
       "    </tr>\n",
       "  </tbody>\n",
       "</table>\n",
       "<p>5 rows × 21 columns</p>\n",
       "</div>"
      ],
      "text/plain": [
       "   laufkont  laufzeit  moral  verw  hoehe  sparkont  beszeit  rate  famges  \\\n",
       "0         1        18      4     2   1049         1        2     4       2   \n",
       "1         1         9      4     0   2799         1        3     2       3   \n",
       "2         2        12      2     9    841         2        4     2       2   \n",
       "3         1        12      4     0   2122         1        3     3       3   \n",
       "4         1        10      4     0   2241         1        2     1       3   \n",
       "\n",
       "   buerge  ...  verm  alter  weitkred  wohn  bishkred  beruf  pers  telef  \\\n",
       "0       1  ...     2     21         3     1         1      3     2      1   \n",
       "1       1  ...     1     36         3     1         2      3     1      1   \n",
       "2       1  ...     1     23         3     1         1      2     2      1   \n",
       "3       1  ...     1     39         3     1         2      2     1      1   \n",
       "4       1  ...     1     48         3     1         2      2     1      1   \n",
       "\n",
       "   gastarb  kredit  \n",
       "0        2     1.0  \n",
       "1        2     1.0  \n",
       "2        2     1.0  \n",
       "3        1     1.0  \n",
       "4        1     1.0  \n",
       "\n",
       "[5 rows x 21 columns]"
      ]
     },
     "execution_count": 3,
     "metadata": {},
     "output_type": "execute_result"
    }
   ],
   "source": [
    "credit_df = pd.read_csv(file)\n",
    "credit_df.head()"
   ]
  },
  {
   "cell_type": "code",
   "execution_count": 4,
   "metadata": {},
   "outputs": [
    {
     "data": {
      "text/plain": [
       "laufkont    1000\n",
       "laufzeit    1000\n",
       "moral       1000\n",
       "verw        1000\n",
       "hoehe       1000\n",
       "sparkont    1000\n",
       "beszeit     1000\n",
       "rate        1000\n",
       "famges      1000\n",
       "buerge      1000\n",
       "wohnzeit    1000\n",
       "verm        1000\n",
       "alter       1000\n",
       "weitkred    1000\n",
       "wohn        1000\n",
       "bishkred    1000\n",
       "beruf       1000\n",
       "pers        1000\n",
       "telef       1000\n",
       "gastarb     1000\n",
       "kredit       800\n",
       "dtype: int64"
      ]
     },
     "execution_count": 4,
     "metadata": {},
     "output_type": "execute_result"
    }
   ],
   "source": [
    "# Count of rows with null values\n",
    "credit_df.count()"
   ]
  },
  {
   "cell_type": "code",
   "execution_count": 5,
   "metadata": {},
   "outputs": [
    {
     "data": {
      "text/plain": [
       "laufkont    800\n",
       "laufzeit    800\n",
       "moral       800\n",
       "verw        800\n",
       "hoehe       800\n",
       "sparkont    800\n",
       "beszeit     800\n",
       "rate        800\n",
       "famges      800\n",
       "buerge      800\n",
       "wohnzeit    800\n",
       "verm        800\n",
       "alter       800\n",
       "weitkred    800\n",
       "wohn        800\n",
       "bishkred    800\n",
       "beruf       800\n",
       "pers        800\n",
       "telef       800\n",
       "gastarb     800\n",
       "kredit      800\n",
       "dtype: int64"
      ]
     },
     "execution_count": 5,
     "metadata": {},
     "output_type": "execute_result"
    }
   ],
   "source": [
    "# Delete rows with null values\n",
    "credit_df_clean = credit_df.dropna(how=\"any\")\n",
    "credit_df_clean.count()"
   ]
  },
  {
   "cell_type": "code",
   "execution_count": 6,
   "metadata": {},
   "outputs": [],
   "source": [
    "# Separate the dataset into data and target\n",
    "X = credit_df_clean.drop(['kredit'], axis=1)\n",
    "y = credit_df_clean[\"kredit\"]"
   ]
  },
  {
   "cell_type": "code",
   "execution_count": 7,
   "metadata": {},
   "outputs": [],
   "source": [
    "# Split into training and testing sets\n",
    "X_train, X_test, y_train, y_test = train_test_split(X, y, random_state=42)"
   ]
  },
  {
   "cell_type": "code",
   "execution_count": 8,
   "metadata": {},
   "outputs": [],
   "source": [
    "# Create steps and pipeline\n",
    "steps = [(\"scaler\", StandardScaler()),\n",
    "        (\"pca\", PCA(n_components=.9)), \n",
    "        (\"lr\", LogisticRegression())]\n",
    "\n",
    "pipe = Pipeline(steps)"
   ]
  },
  {
   "cell_type": "code",
   "execution_count": 9,
   "metadata": {},
   "outputs": [],
   "source": [
    "params = {'lr__C': [0.001, 0.01, 0.1, 1, 10, 100, 1000],\n",
    "         'lr__solver': ['sag', 'lbfgs']}"
   ]
  },
  {
   "cell_type": "code",
   "execution_count": 10,
   "metadata": {},
   "outputs": [
    {
     "data": {
      "text/plain": [
       "GridSearchCV(estimator=Pipeline(steps=[('scaler', StandardScaler()),\n",
       "                                       ('pca', PCA(n_components=0.9)),\n",
       "                                       ('lr', LogisticRegression())]),\n",
       "             param_grid={'lr__C': [0.001, 0.01, 0.1, 1, 10, 100, 1000],\n",
       "                         'lr__solver': ['sag', 'lbfgs']})"
      ]
     },
     "execution_count": 10,
     "metadata": {},
     "output_type": "execute_result"
    }
   ],
   "source": [
    "# Run GridSearchCV\n",
    "grid_clf = GridSearchCV(pipe, params)\n",
    "grid_clf.fit(X_train, y_train)"
   ]
  },
  {
   "cell_type": "code",
   "execution_count": 11,
   "metadata": {},
   "outputs": [
    {
     "name": "stdout",
     "output_type": "stream",
     "text": [
      "0.765\n",
      "              precision    recall  f1-score   support\n",
      "\n",
      "         0.0       0.73      0.28      0.41        57\n",
      "         1.0       0.77      0.96      0.85       143\n",
      "\n",
      "    accuracy                           0.77       200\n",
      "   macro avg       0.75      0.62      0.63       200\n",
      "weighted avg       0.76      0.77      0.73       200\n",
      "\n"
     ]
    }
   ],
   "source": [
    "# Evaluate performance\n",
    "print(grid_clf.score(X_test, y_test))\n",
    "predictions = grid_clf.predict(X_test)\n",
    "from sklearn.metrics import classification_report\n",
    "print(classification_report(y_test, predictions))"
   ]
  },
  {
   "cell_type": "code",
   "execution_count": 12,
   "metadata": {},
   "outputs": [
    {
     "name": "stdout",
     "output_type": "stream",
     "text": [
      "{'lr__C': 10, 'lr__solver': 'sag'}\n"
     ]
    }
   ],
   "source": [
    "# Extract best params\n",
    "print(grid_clf.best_params_)"
   ]
  },
  {
   "cell_type": "code",
   "execution_count": null,
   "metadata": {},
   "outputs": [],
   "source": []
  }
 ],
 "metadata": {
  "kernelspec": {
   "display_name": "Python 3",
   "language": "python",
   "name": "python3"
  },
  "language_info": {
   "codemirror_mode": {
    "name": "ipython",
    "version": 3
   },
   "file_extension": ".py",
   "mimetype": "text/x-python",
   "name": "python",
   "nbconvert_exporter": "python",
   "pygments_lexer": "ipython3",
   "version": "3.8.8"
  }
 },
 "nbformat": 4,
 "nbformat_minor": 4
}
