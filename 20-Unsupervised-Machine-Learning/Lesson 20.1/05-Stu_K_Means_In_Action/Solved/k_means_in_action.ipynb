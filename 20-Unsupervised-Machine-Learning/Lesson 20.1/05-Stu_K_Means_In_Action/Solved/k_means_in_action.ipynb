{
 "cells": [
  {
   "cell_type": "markdown",
   "metadata": {},
   "source": [
    "# Students Do: Clustering costumers for e-commerce\n",
    "\n",
    "Once you have prepared the data, it's time to start looking for patterns that could lead you to define customer clusters. After talking with the CFO of the company about the next quarter goals, you figured out that one way to understand customers, from the available data, is to cluster them according to their spending capacity, however you have to find how many groups you can define.\n",
    "\n",
    "You decide to use your new unsupervised learning skills and put k-means in action!"
   ]
  },
  {
   "cell_type": "code",
   "execution_count": 1,
   "metadata": {
    "execution": {
     "iopub.execute_input": "2020-12-08T22:39:40.199Z",
     "iopub.status.busy": "2020-12-08T22:39:40.190Z",
     "iopub.status.idle": "2020-12-08T22:39:43.973Z",
     "shell.execute_reply": "2020-12-08T22:39:44.031Z"
    }
   },
   "outputs": [],
   "source": [
    "# Initial imports\n",
    "import pandas as pd\n",
    "from sklearn.cluster import KMeans\n",
    "from pathlib import Path\n",
    "import matplotlib.pyplot as plt"
   ]
  },
  {
   "cell_type": "markdown",
   "metadata": {},
   "source": [
    "## Instructions\n",
    "\n",
    "Accomplish the following tasks and use K-Means to cluster the customers data.\n",
    "\n",
    " * Load the data"
   ]
  },
  {
   "cell_type": "code",
   "execution_count": 2,
   "metadata": {
    "execution": {
     "iopub.execute_input": "2020-12-08T22:39:43.992Z",
     "iopub.status.busy": "2020-12-08T22:39:43.985Z",
     "iopub.status.idle": "2020-12-08T22:39:44.007Z",
     "shell.execute_reply": "2020-12-08T22:39:44.036Z"
    }
   },
   "outputs": [
    {
     "data": {
      "text/html": [
       "<div>\n",
       "<style scoped>\n",
       "    .dataframe tbody tr th:only-of-type {\n",
       "        vertical-align: middle;\n",
       "    }\n",
       "\n",
       "    .dataframe tbody tr th {\n",
       "        vertical-align: top;\n",
       "    }\n",
       "\n",
       "    .dataframe thead th {\n",
       "        text-align: right;\n",
       "    }\n",
       "</style>\n",
       "<table border=\"1\" class=\"dataframe\">\n",
       "  <thead>\n",
       "    <tr style=\"text-align: right;\">\n",
       "      <th></th>\n",
       "      <th>Age</th>\n",
       "      <th>Annual Income</th>\n",
       "      <th>Spending Score</th>\n",
       "      <th>Previous Shopper</th>\n",
       "    </tr>\n",
       "  </thead>\n",
       "  <tbody>\n",
       "    <tr>\n",
       "      <th>0</th>\n",
       "      <td>-0.295240</td>\n",
       "      <td>-0.118424</td>\n",
       "      <td>-1.625204</td>\n",
       "      <td>1</td>\n",
       "    </tr>\n",
       "    <tr>\n",
       "      <th>1</th>\n",
       "      <td>-0.979855</td>\n",
       "      <td>0.051970</td>\n",
       "      <td>-0.053060</td>\n",
       "      <td>1</td>\n",
       "    </tr>\n",
       "    <tr>\n",
       "      <th>2</th>\n",
       "      <td>-0.009984</td>\n",
       "      <td>1.244733</td>\n",
       "      <td>0.208964</td>\n",
       "      <td>0</td>\n",
       "    </tr>\n",
       "    <tr>\n",
       "      <th>3</th>\n",
       "      <td>-0.181138</td>\n",
       "      <td>0.392760</td>\n",
       "      <td>-0.839132</td>\n",
       "      <td>1</td>\n",
       "    </tr>\n",
       "    <tr>\n",
       "      <th>4</th>\n",
       "      <td>-0.124086</td>\n",
       "      <td>1.074338</td>\n",
       "      <td>-0.577108</td>\n",
       "      <td>0</td>\n",
       "    </tr>\n",
       "  </tbody>\n",
       "</table>\n",
       "</div>"
      ],
      "text/plain": [
       "        Age  Annual Income  Spending Score  Previous Shopper\n",
       "0 -0.295240      -0.118424       -1.625204                 1\n",
       "1 -0.979855       0.051970       -0.053060                 1\n",
       "2 -0.009984       1.244733        0.208964                 0\n",
       "3 -0.181138       0.392760       -0.839132                 1\n",
       "4 -0.124086       1.074338       -0.577108                 0"
      ]
     },
     "execution_count": 2,
     "metadata": {},
     "output_type": "execute_result"
    }
   ],
   "source": [
    "# Loading data\n",
    "file_path = Path(\"../Resources/shopping_data_cleaned.csv\")\n",
    "df_shopping = pd.read_csv(file_path)\n",
    "df_shopping.head()"
   ]
  },
  {
   "cell_type": "code",
   "execution_count": 3,
   "metadata": {
    "execution": {
     "iopub.execute_input": "2020-12-08T22:39:45.658Z",
     "iopub.status.busy": "2020-12-08T22:39:45.652Z",
     "iopub.status.idle": "2020-12-08T22:39:46.033Z",
     "shell.execute_reply": "2020-12-08T22:39:46.094Z"
    }
   },
   "outputs": [
    {
     "name": "stderr",
     "output_type": "stream",
     "text": [
      "C:\\Users\\khutula\\Anaconda3\\lib\\site-packages\\sklearn\\cluster\\_kmeans.py:881: UserWarning: KMeans is known to have a memory leak on Windows with MKL, when there are less chunks than available threads. You can avoid it by setting the environment variable OMP_NUM_THREADS=1.\n",
      "  warnings.warn(\n"
     ]
    }
   ],
   "source": [
    "# Identify the best number of clusters using the elbow curve\n",
    "inertia = []\n",
    "k = list(range(1,11))\n",
    "\n",
    "for i in k:\n",
    "    km = KMeans(n_clusters=i, random_state=42)\n",
    "    km.fit(df_shopping)\n",
    "    inertia.append(km.inertia_)\n",
    "\n",
    "df_elbow = pd.DataFrame({\"k\": k, \"inertia\": inertia})"
   ]
  },
  {
   "cell_type": "code",
   "execution_count": 4,
   "metadata": {},
   "outputs": [
    {
     "data": {
      "image/png": "[encoded data removed]",
      "text/plain": [
       "<Figure size 432x288 with 1 Axes>"
      ]
     },
     "metadata": {
      "needs_background": "light"
     },
     "output_type": "display_data"
    }
   ],
   "source": [
    "# Plot the elbow curve to find the best candidate(s) for k\n",
    "plt.plot(df_elbow[\"k\"], df_elbow[\"inertia\"])\n",
    "plt.show()"
   ]
  },
  {
   "cell_type": "markdown",
   "metadata": {},
   "source": [
    "* (Optional) Create a function called `get_clusters(k, data)` that finds the `k` clusters using K-Means on `data`. The function should return a DataFrame copy of `Data` that should include a new column containing the clusters found."
   ]
  },
  {
   "cell_type": "code",
   "execution_count": 5,
   "metadata": {
    "execution": {
     "iopub.execute_input": "2020-12-08T22:39:57.314Z",
     "iopub.status.busy": "2020-12-08T22:39:57.305Z",
     "iopub.status.idle": "2020-12-08T22:39:57.326Z",
     "shell.execute_reply": "2020-12-08T22:39:57.333Z"
    }
   },
   "outputs": [],
   "source": [
    "# get_clusters function\n",
    "def get_clusters(k, data):\n",
    "    # Initialize the K-Means model\n",
    "    model = KMeans(n_clusters=k, random_state=42)\n",
    "\n",
    "    # Train the model\n",
    "    model.fit(data)\n",
    "\n",
    "    # Predict clusters\n",
    "    predictions = model.predict(data)\n",
    "\n",
    "    # Create return DataFrame with predicted clusters\n",
    "    data[\"class\"] = model.labels_\n",
    "\n",
    "    return data"
   ]
  },
  {
   "cell_type": "markdown",
   "metadata": {},
   "source": [
    "* Create a function called show_clusters(df) that will create a scatter plot of a dataframe's Annual Income and Spending Score (1-100) columns, and color by the cluster."
   ]
  },
  {
   "cell_type": "code",
   "execution_count": 6,
   "metadata": {},
   "outputs": [
    {
     "data": {
      "text/html": [
       "<div>\n",
       "<style scoped>\n",
       "    .dataframe tbody tr th:only-of-type {\n",
       "        vertical-align: middle;\n",
       "    }\n",
       "\n",
       "    .dataframe tbody tr th {\n",
       "        vertical-align: top;\n",
       "    }\n",
       "\n",
       "    .dataframe thead th {\n",
       "        text-align: right;\n",
       "    }\n",
       "</style>\n",
       "<table border=\"1\" class=\"dataframe\">\n",
       "  <thead>\n",
       "    <tr style=\"text-align: right;\">\n",
       "      <th></th>\n",
       "      <th>Age</th>\n",
       "      <th>Annual Income</th>\n",
       "      <th>Spending Score</th>\n",
       "      <th>Previous Shopper</th>\n",
       "      <th>class</th>\n",
       "    </tr>\n",
       "  </thead>\n",
       "  <tbody>\n",
       "    <tr>\n",
       "      <th>0</th>\n",
       "      <td>-0.295240</td>\n",
       "      <td>-0.118424</td>\n",
       "      <td>-1.625204</td>\n",
       "      <td>1</td>\n",
       "      <td>2</td>\n",
       "    </tr>\n",
       "    <tr>\n",
       "      <th>1</th>\n",
       "      <td>-0.979855</td>\n",
       "      <td>0.051970</td>\n",
       "      <td>-0.053060</td>\n",
       "      <td>1</td>\n",
       "      <td>2</td>\n",
       "    </tr>\n",
       "    <tr>\n",
       "      <th>2</th>\n",
       "      <td>-0.009984</td>\n",
       "      <td>1.244733</td>\n",
       "      <td>0.208964</td>\n",
       "      <td>0</td>\n",
       "      <td>1</td>\n",
       "    </tr>\n",
       "    <tr>\n",
       "      <th>3</th>\n",
       "      <td>-0.181138</td>\n",
       "      <td>0.392760</td>\n",
       "      <td>-0.839132</td>\n",
       "      <td>1</td>\n",
       "      <td>2</td>\n",
       "    </tr>\n",
       "    <tr>\n",
       "      <th>4</th>\n",
       "      <td>-0.124086</td>\n",
       "      <td>1.074338</td>\n",
       "      <td>-0.577108</td>\n",
       "      <td>0</td>\n",
       "      <td>1</td>\n",
       "    </tr>\n",
       "    <tr>\n",
       "      <th>...</th>\n",
       "      <td>...</td>\n",
       "      <td>...</td>\n",
       "      <td>...</td>\n",
       "      <td>...</td>\n",
       "      <td>...</td>\n",
       "    </tr>\n",
       "    <tr>\n",
       "      <th>195</th>\n",
       "      <td>1.073990</td>\n",
       "      <td>-0.970398</td>\n",
       "      <td>1.126048</td>\n",
       "      <td>1</td>\n",
       "      <td>0</td>\n",
       "    </tr>\n",
       "    <tr>\n",
       "      <th>196</th>\n",
       "      <td>0.959887</td>\n",
       "      <td>-0.459214</td>\n",
       "      <td>1.912120</td>\n",
       "      <td>1</td>\n",
       "      <td>0</td>\n",
       "    </tr>\n",
       "    <tr>\n",
       "      <th>197</th>\n",
       "      <td>-0.295240</td>\n",
       "      <td>0.051970</td>\n",
       "      <td>0.470988</td>\n",
       "      <td>1</td>\n",
       "      <td>2</td>\n",
       "    </tr>\n",
       "    <tr>\n",
       "      <th>198</th>\n",
       "      <td>-0.124086</td>\n",
       "      <td>0.222365</td>\n",
       "      <td>0.208964</td>\n",
       "      <td>0</td>\n",
       "      <td>2</td>\n",
       "    </tr>\n",
       "    <tr>\n",
       "      <th>199</th>\n",
       "      <td>-0.181138</td>\n",
       "      <td>1.074338</td>\n",
       "      <td>0.470988</td>\n",
       "      <td>1</td>\n",
       "      <td>1</td>\n",
       "    </tr>\n",
       "  </tbody>\n",
       "</table>\n",
       "<p>200 rows × 5 columns</p>\n",
       "</div>"
      ],
      "text/plain": [
       "          Age  Annual Income  Spending Score  Previous Shopper  class\n",
       "0   -0.295240      -0.118424       -1.625204                 1      2\n",
       "1   -0.979855       0.051970       -0.053060                 1      2\n",
       "2   -0.009984       1.244733        0.208964                 0      1\n",
       "3   -0.181138       0.392760       -0.839132                 1      2\n",
       "4   -0.124086       1.074338       -0.577108                 0      1\n",
       "..        ...            ...             ...               ...    ...\n",
       "195  1.073990      -0.970398        1.126048                 1      0\n",
       "196  0.959887      -0.459214        1.912120                 1      0\n",
       "197 -0.295240       0.051970        0.470988                 1      2\n",
       "198 -0.124086       0.222365        0.208964                 0      2\n",
       "199 -0.181138       1.074338        0.470988                 1      1\n",
       "\n",
       "[200 rows x 5 columns]"
      ]
     },
     "execution_count": 6,
     "metadata": {},
     "output_type": "execute_result"
    }
   ],
   "source": [
    "# show_clusters function\n",
    "clusters = get_clusters(3, df_shopping)\n",
    "clusters"
   ]
  },
  {
   "cell_type": "markdown",
   "metadata": {},
   "source": [
    "* Create a 2D-Scatter plot to analyze the clusters using `x=\"Annual Income\"` and `y=\"Spending Score (1-100)\"`."
   ]
  },
  {
   "cell_type": "markdown",
   "metadata": {},
   "source": [
    "**Analyzing Clusters with the First Best Value of `k`**"
   ]
  },
  {
   "cell_type": "code",
   "execution_count": 7,
   "metadata": {},
   "outputs": [],
   "source": [
    "def show_clusters(df):\n",
    "    plt.scatter(df['Annual Income'], df['Spending Score'], c=df['class'])\n",
    "    plt.xlabel('Annual Income')\n",
    "    plt.ylabel('Spending Score')\n",
    "    plt.show()"
   ]
  },
  {
   "cell_type": "code",
   "execution_count": 8,
   "metadata": {},
   "outputs": [
    {
     "data": {
      "image/png": "[encoded data removed]",
      "text/plain": [
       "<Figure size 432x288 with 1 Axes>"
      ]
     },
     "metadata": {
      "needs_background": "light"
     },
     "output_type": "display_data"
    }
   ],
   "source": [
    "show_clusters(clusters)"
   ]
  },
  {
   "cell_type": "code",
   "execution_count": null,
   "metadata": {},
   "outputs": [],
   "source": []
  }
 ],
 "metadata": {
  "file_extension": ".py",
  "kernelspec": {
   "display_name": "Python 3",
   "language": "python",
   "name": "python3"
  },
  "language_info": {
   "codemirror_mode": {
    "name": "ipython",
    "version": 3
   },
   "file_extension": ".py",
   "mimetype": "text/x-python",
   "name": "python",
   "nbconvert_exporter": "python",
   "pygments_lexer": "ipython3",
   "version": "3.8.8"
  },
  "mimetype": "text/x-python",
  "name": "python",
  "npconvert_exporter": "python",
  "nteract": {
   "version": "0.26.0"
  },
  "pygments_lexer": "ipython3",
  "version": 3
 },
 "nbformat": 4,
 "nbformat_minor": 4
}
